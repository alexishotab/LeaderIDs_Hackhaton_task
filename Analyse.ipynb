{
 "cells": [
  {
   "cell_type": "code",
   "execution_count": 2,
   "id": "55777a32",
   "metadata": {},
   "outputs": [],
   "source": [
    "import pandas as pd\n",
    "import numpy as np\n",
    "import matplotlib.pyplot as plt\n",
    "import seaborn as sns"
   ]
  },
  {
   "cell_type": "code",
   "execution_count": 3,
   "id": "53239acc",
   "metadata": {},
   "outputs": [],
   "source": [
    "data=pd.read_excel(\"LeaderIDsFinal.xlsx\",sheet_name=\"Журналисты\")"
   ]
  },
  {
   "cell_type": "code",
   "execution_count": 4,
   "id": "3d758a20",
   "metadata": {
    "scrolled": true
   },
   "outputs": [
    {
     "data": {
      "text/html": [
       "<div>\n",
       "<style scoped>\n",
       "    .dataframe tbody tr th:only-of-type {\n",
       "        vertical-align: middle;\n",
       "    }\n",
       "\n",
       "    .dataframe tbody tr th {\n",
       "        vertical-align: top;\n",
       "    }\n",
       "\n",
       "    .dataframe thead th {\n",
       "        text-align: right;\n",
       "    }\n",
       "</style>\n",
       "<table border=\"1\" class=\"dataframe\">\n",
       "  <thead>\n",
       "    <tr style=\"text-align: right;\">\n",
       "      <th></th>\n",
       "      <th>имя</th>\n",
       "      <th>запросов в месяц</th>\n",
       "      <th>количество страниц в google</th>\n",
       "      <th>подписчики</th>\n",
       "      <th>доходы за год $</th>\n",
       "      <th>год рождения</th>\n",
       "      <th>основная платформа деятельности</th>\n",
       "      <th>Деятельность</th>\n",
       "    </tr>\n",
       "  </thead>\n",
       "  <tbody>\n",
       "    <tr>\n",
       "      <th>0</th>\n",
       "      <td>Дмитрий Киселев</td>\n",
       "      <td>103060.0</td>\n",
       "      <td>228000.0</td>\n",
       "      <td>2385.0</td>\n",
       "      <td>76058.0</td>\n",
       "      <td>1954.0</td>\n",
       "      <td>9.0</td>\n",
       "      <td>3.0</td>\n",
       "    </tr>\n",
       "    <tr>\n",
       "      <th>1</th>\n",
       "      <td>Константин Генич</td>\n",
       "      <td>25200.0</td>\n",
       "      <td>184000.0</td>\n",
       "      <td>71300.0</td>\n",
       "      <td>109091.0</td>\n",
       "      <td>1978.0</td>\n",
       "      <td>9.0</td>\n",
       "      <td>3.0</td>\n",
       "    </tr>\n",
       "    <tr>\n",
       "      <th>2</th>\n",
       "      <td>Дмитрий Губерниев</td>\n",
       "      <td>63963.0</td>\n",
       "      <td>1480000.0</td>\n",
       "      <td>719800.0</td>\n",
       "      <td>138889.0</td>\n",
       "      <td>1974.0</td>\n",
       "      <td>9.0</td>\n",
       "      <td>3.0</td>\n",
       "    </tr>\n",
       "    <tr>\n",
       "      <th>3</th>\n",
       "      <td>Василий Уткин</td>\n",
       "      <td>12917.0</td>\n",
       "      <td>255000.0</td>\n",
       "      <td>834000.0</td>\n",
       "      <td>139000.0</td>\n",
       "      <td>1972.0</td>\n",
       "      <td>9.0</td>\n",
       "      <td>3.0</td>\n",
       "    </tr>\n",
       "    <tr>\n",
       "      <th>4</th>\n",
       "      <td>Алексей Венедиктов</td>\n",
       "      <td>87603.0</td>\n",
       "      <td>191000.0</td>\n",
       "      <td>107000.0</td>\n",
       "      <td>198413.0</td>\n",
       "      <td>1955.0</td>\n",
       "      <td>9.0</td>\n",
       "      <td>3.0</td>\n",
       "    </tr>\n",
       "  </tbody>\n",
       "</table>\n",
       "</div>"
      ],
      "text/plain": [
       "                  имя  запросов в месяц  количество страниц в google  \\\n",
       "0     Дмитрий Киселев          103060.0                     228000.0   \n",
       "1    Константин Генич           25200.0                     184000.0   \n",
       "2   Дмитрий Губерниев           63963.0                    1480000.0   \n",
       "3       Василий Уткин           12917.0                     255000.0   \n",
       "4  Алексей Венедиктов           87603.0                     191000.0   \n",
       "\n",
       "   подписчики  доходы за год $  год рождения  основная платформа деятельности  \\\n",
       "0      2385.0          76058.0        1954.0                              9.0   \n",
       "1     71300.0         109091.0        1978.0                              9.0   \n",
       "2    719800.0         138889.0        1974.0                              9.0   \n",
       "3    834000.0         139000.0        1972.0                              9.0   \n",
       "4    107000.0         198413.0        1955.0                              9.0   \n",
       "\n",
       "   Деятельность  \n",
       "0           3.0  \n",
       "1           3.0  \n",
       "2           3.0  \n",
       "3           3.0  \n",
       "4           3.0  "
      ]
     },
     "execution_count": 4,
     "metadata": {},
     "output_type": "execute_result"
    }
   ],
   "source": [
    "data.head()"
   ]
  },
  {
   "cell_type": "code",
   "execution_count": 5,
   "id": "2e73d691",
   "metadata": {},
   "outputs": [],
   "source": [
    "from sklearn.preprocessing import StandardScaler\n",
    "features=['запросов в месяц', 'количество страниц в google', 'подписчики',\n",
    "       'доходы за год $']\n",
    "x = data.loc[:, features].values\n",
    "x = StandardScaler().fit_transform(x)"
   ]
  },
  {
   "cell_type": "markdown",
   "id": "e39b181d",
   "metadata": {},
   "source": [
    "Стандартизируем шкалу"
   ]
  },
  {
   "cell_type": "code",
   "execution_count": 6,
   "id": "34b1cee5",
   "metadata": {
    "scrolled": true
   },
   "outputs": [
    {
     "data": {
      "text/html": [
       "<div>\n",
       "<style scoped>\n",
       "    .dataframe tbody tr th:only-of-type {\n",
       "        vertical-align: middle;\n",
       "    }\n",
       "\n",
       "    .dataframe tbody tr th {\n",
       "        vertical-align: top;\n",
       "    }\n",
       "\n",
       "    .dataframe thead th {\n",
       "        text-align: right;\n",
       "    }\n",
       "</style>\n",
       "<table border=\"1\" class=\"dataframe\">\n",
       "  <thead>\n",
       "    <tr style=\"text-align: right;\">\n",
       "      <th></th>\n",
       "      <th>principal_component_1</th>\n",
       "      <th>principal_component_2</th>\n",
       "    </tr>\n",
       "  </thead>\n",
       "  <tbody>\n",
       "    <tr>\n",
       "      <th>0</th>\n",
       "      <td>-1.064837</td>\n",
       "      <td>0.178281</td>\n",
       "    </tr>\n",
       "    <tr>\n",
       "      <th>1</th>\n",
       "      <td>-1.111017</td>\n",
       "      <td>0.085728</td>\n",
       "    </tr>\n",
       "    <tr>\n",
       "      <th>2</th>\n",
       "      <td>-0.211344</td>\n",
       "      <td>0.475477</td>\n",
       "    </tr>\n",
       "    <tr>\n",
       "      <th>3</th>\n",
       "      <td>-0.984159</td>\n",
       "      <td>0.002320</td>\n",
       "    </tr>\n",
       "    <tr>\n",
       "      <th>4</th>\n",
       "      <td>-1.037119</td>\n",
       "      <td>0.105674</td>\n",
       "    </tr>\n",
       "    <tr>\n",
       "      <th>5</th>\n",
       "      <td>-0.926226</td>\n",
       "      <td>0.189092</td>\n",
       "    </tr>\n",
       "    <tr>\n",
       "      <th>6</th>\n",
       "      <td>-0.896485</td>\n",
       "      <td>-0.179972</td>\n",
       "    </tr>\n",
       "    <tr>\n",
       "      <th>7</th>\n",
       "      <td>-0.288496</td>\n",
       "      <td>0.098293</td>\n",
       "    </tr>\n",
       "    <tr>\n",
       "      <th>8</th>\n",
       "      <td>2.202070</td>\n",
       "      <td>3.185503</td>\n",
       "    </tr>\n",
       "    <tr>\n",
       "      <th>9</th>\n",
       "      <td>-0.750136</td>\n",
       "      <td>-0.266350</td>\n",
       "    </tr>\n",
       "    <tr>\n",
       "      <th>10</th>\n",
       "      <td>0.152467</td>\n",
       "      <td>-0.752510</td>\n",
       "    </tr>\n",
       "    <tr>\n",
       "      <th>11</th>\n",
       "      <td>-0.556331</td>\n",
       "      <td>-0.336206</td>\n",
       "    </tr>\n",
       "    <tr>\n",
       "      <th>12</th>\n",
       "      <td>1.463470</td>\n",
       "      <td>-2.122285</td>\n",
       "    </tr>\n",
       "    <tr>\n",
       "      <th>13</th>\n",
       "      <td>1.191728</td>\n",
       "      <td>-1.245504</td>\n",
       "    </tr>\n",
       "    <tr>\n",
       "      <th>14</th>\n",
       "      <td>5.069905</td>\n",
       "      <td>-0.315321</td>\n",
       "    </tr>\n",
       "    <tr>\n",
       "      <th>15</th>\n",
       "      <td>-0.349116</td>\n",
       "      <td>0.489359</td>\n",
       "    </tr>\n",
       "    <tr>\n",
       "      <th>16</th>\n",
       "      <td>-0.924140</td>\n",
       "      <td>0.228865</td>\n",
       "    </tr>\n",
       "    <tr>\n",
       "      <th>17</th>\n",
       "      <td>-0.980233</td>\n",
       "      <td>0.179555</td>\n",
       "    </tr>\n",
       "  </tbody>\n",
       "</table>\n",
       "</div>"
      ],
      "text/plain": [
       "    principal_component_1  principal_component_2\n",
       "0               -1.064837               0.178281\n",
       "1               -1.111017               0.085728\n",
       "2               -0.211344               0.475477\n",
       "3               -0.984159               0.002320\n",
       "4               -1.037119               0.105674\n",
       "5               -0.926226               0.189092\n",
       "6               -0.896485              -0.179972\n",
       "7               -0.288496               0.098293\n",
       "8                2.202070               3.185503\n",
       "9               -0.750136              -0.266350\n",
       "10               0.152467              -0.752510\n",
       "11              -0.556331              -0.336206\n",
       "12               1.463470              -2.122285\n",
       "13               1.191728              -1.245504\n",
       "14               5.069905              -0.315321\n",
       "15              -0.349116               0.489359\n",
       "16              -0.924140               0.228865\n",
       "17              -0.980233               0.179555"
      ]
     },
     "execution_count": 6,
     "metadata": {},
     "output_type": "execute_result"
    }
   ],
   "source": [
    "from sklearn.decomposition import PCA\n",
    "pca = PCA(n_components=2)\n",
    "principalComponents = pca.fit_transform(x)\n",
    "principalDf = pd.DataFrame(data = principalComponents\n",
    "             , columns = ['principal_component_1', 'principal_component_2'])\n",
    "principalDf"
   ]
  },
  {
   "cell_type": "markdown",
   "id": "2325d00f",
   "metadata": {},
   "source": [
    "Применим анализ главных компонент\n"
   ]
  },
  {
   "cell_type": "code",
   "execution_count": 7,
   "id": "707cbb90",
   "metadata": {},
   "outputs": [
    {
     "data": {
      "text/plain": [
       "0.8455541604943505"
      ]
     },
     "execution_count": 7,
     "metadata": {},
     "output_type": "execute_result"
    }
   ],
   "source": [
    "pca.explained_variance_ratio_.sum()"
   ]
  },
  {
   "cell_type": "markdown",
   "id": "cd0c7f2d",
   "metadata": {},
   "source": [
    "Проверим рейтинг изменчивости"
   ]
  },
  {
   "cell_type": "code",
   "execution_count": 8,
   "id": "a23de74d",
   "metadata": {},
   "outputs": [],
   "source": [
    "data.index=range(0,18)"
   ]
  },
  {
   "cell_type": "code",
   "execution_count": 9,
   "id": "8a2b3633",
   "metadata": {
    "scrolled": false
   },
   "outputs": [
    {
     "data": {
      "image/png": "[encoded data removed]",
      "text/plain": [
       "<Figure size 640x480 with 1 Axes>"
      ]
     },
     "metadata": {},
     "output_type": "display_data"
    }
   ],
   "source": [
    "plt.scatter(principalDf.iloc[:,0],principalDf.iloc[:,1], s = 30);\n",
    "plt.show()"
   ]
  },
  {
   "cell_type": "code",
   "execution_count": 10,
   "id": "b2c8655c",
   "metadata": {},
   "outputs": [],
   "source": [
    "from sklearn.cluster import KMeans\n",
    "kmeans = KMeans(n_clusters = 3)\n",
    "kmeans.fit(principalDf)\n",
    "y_kmeans = kmeans.predict(principalDf)\n",
    "principalDf[\"Group\"]= y_kmeans\n",
    "data[\"Group\"]=y_kmeans"
   ]
  },
  {
   "cell_type": "markdown",
   "id": "3719185c",
   "metadata": {},
   "source": [
    "Применим алгоритм k-means, чтобы разделить наблюдения на группы"
   ]
  },
  {
   "cell_type": "code",
   "execution_count": 11,
   "id": "8ffd0e00",
   "metadata": {},
   "outputs": [
    {
     "data": {
      "image/png": "[encoded data removed]",
      "text/plain": [
       "<Figure size 640x480 with 1 Axes>"
      ]
     },
     "metadata": {},
     "output_type": "display_data"
    }
   ],
   "source": [
    "plt.scatter(principalDf[principalDf.Group == 2].iloc[:,0],principalDf[principalDf.Group == 2].iloc[:,1] , color = 'red')\n",
    "plt.scatter(principalDf[principalDf.Group == 1].iloc[:,0],principalDf[principalDf.Group == 1].iloc[:,1] , color = 'black')\n",
    "plt.scatter(principalDf[principalDf.Group == 0].iloc[:,0],principalDf[principalDf.Group == 0].iloc[:,1] , color = 'green')\n",
    "\n",
    "plt.show()\n"
   ]
  },
  {
   "cell_type": "code",
   "execution_count": 12,
   "id": "92320a44",
   "metadata": {},
   "outputs": [],
   "source": [
    "principalDf[principalDf.Group == 1]\n",
    "writer = pd.ExcelWriter('JournalistFinal.xlsx')\n",
    "data.to_excel(writer)\n",
    "writer.save()"
   ]
  },
  {
   "cell_type": "markdown",
   "id": "5776bf90",
   "metadata": {},
   "source": [
    "Запишем файл журналистов"
   ]
  },
  {
   "cell_type": "code",
   "execution_count": 13,
   "id": "dd8de4e9",
   "metadata": {},
   "outputs": [],
   "source": [
    "data=pd.read_excel(\"LeaderIDsFinal.xlsx\",sheet_name=\"Блогеры\")\n",
    "data=data.loc[data[\"доходы за год $\"].isna()==False]\n"
   ]
  },
  {
   "cell_type": "markdown",
   "id": "06007c59",
   "metadata": {},
   "source": [
    "Повторим процедуру с Блогерами"
   ]
  },
  {
   "cell_type": "code",
   "execution_count": 14,
   "id": "6c4e5bf5",
   "metadata": {},
   "outputs": [
    {
     "data": {
      "text/html": [
       "<div>\n",
       "<style scoped>\n",
       "    .dataframe tbody tr th:only-of-type {\n",
       "        vertical-align: middle;\n",
       "    }\n",
       "\n",
       "    .dataframe tbody tr th {\n",
       "        vertical-align: top;\n",
       "    }\n",
       "\n",
       "    .dataframe thead th {\n",
       "        text-align: right;\n",
       "    }\n",
       "</style>\n",
       "<table border=\"1\" class=\"dataframe\">\n",
       "  <thead>\n",
       "    <tr style=\"text-align: right;\">\n",
       "      <th></th>\n",
       "      <th>имя</th>\n",
       "      <th>запросов в месяц</th>\n",
       "      <th>количество страниц в google</th>\n",
       "      <th>подписчики</th>\n",
       "      <th>доходы за год $</th>\n",
       "      <th>год рождения</th>\n",
       "      <th>основная платформа деятельности</th>\n",
       "      <th>Деятельность</th>\n",
       "    </tr>\n",
       "  </thead>\n",
       "  <tbody>\n",
       "    <tr>\n",
       "      <th>0</th>\n",
       "      <td>Диана Астер</td>\n",
       "      <td>18126.0</td>\n",
       "      <td>71000.0</td>\n",
       "      <td>13984535</td>\n",
       "      <td>23809.0</td>\n",
       "      <td>2000.0</td>\n",
       "      <td>11.0</td>\n",
       "      <td>2.0</td>\n",
       "    </tr>\n",
       "    <tr>\n",
       "      <th>1</th>\n",
       "      <td>Анна Покровская (Покров)</td>\n",
       "      <td>137034.0</td>\n",
       "      <td>347000.0</td>\n",
       "      <td>26718000</td>\n",
       "      <td>31746.0</td>\n",
       "      <td>1999.0</td>\n",
       "      <td>11.0</td>\n",
       "      <td>2.0</td>\n",
       "    </tr>\n",
       "    <tr>\n",
       "      <th>2</th>\n",
       "      <td>Даня Милохин</td>\n",
       "      <td>705459.0</td>\n",
       "      <td>4200000.0</td>\n",
       "      <td>24370778</td>\n",
       "      <td>47453.0</td>\n",
       "      <td>2001.0</td>\n",
       "      <td>11.0</td>\n",
       "      <td>2.0</td>\n",
       "    </tr>\n",
       "    <tr>\n",
       "      <th>3</th>\n",
       "      <td>Валентина Карнаухова (Карнавал)</td>\n",
       "      <td>946882.0</td>\n",
       "      <td>638000.0</td>\n",
       "      <td>27394000</td>\n",
       "      <td>53075.0</td>\n",
       "      <td>2001.0</td>\n",
       "      <td>11.0</td>\n",
       "      <td>2.0</td>\n",
       "    </tr>\n",
       "    <tr>\n",
       "      <th>4</th>\n",
       "      <td>Юлия Гаврилина</td>\n",
       "      <td>356552.0</td>\n",
       "      <td>522000.0</td>\n",
       "      <td>38388000</td>\n",
       "      <td>54894.0</td>\n",
       "      <td>2002.0</td>\n",
       "      <td>11.0</td>\n",
       "      <td>2.0</td>\n",
       "    </tr>\n",
       "    <tr>\n",
       "      <th>5</th>\n",
       "      <td>Егор Шип</td>\n",
       "      <td>245286.0</td>\n",
       "      <td>1460000.0</td>\n",
       "      <td>15829700</td>\n",
       "      <td>60000.0</td>\n",
       "      <td>2002.0</td>\n",
       "      <td>11.0</td>\n",
       "      <td>2.0</td>\n",
       "    </tr>\n",
       "    <tr>\n",
       "      <th>6</th>\n",
       "      <td>Евге́ний Баже́нов (бэдкомедиан)</td>\n",
       "      <td>31248.0</td>\n",
       "      <td>1320000.0</td>\n",
       "      <td>6454000</td>\n",
       "      <td>79365.0</td>\n",
       "      <td>1991.0</td>\n",
       "      <td>11.0</td>\n",
       "      <td>2.0</td>\n",
       "    </tr>\n",
       "    <tr>\n",
       "      <th>7</th>\n",
       "      <td>Дина Саева</td>\n",
       "      <td>50935.0</td>\n",
       "      <td>127000.0</td>\n",
       "      <td>32639400</td>\n",
       "      <td>81018.0</td>\n",
       "      <td>1999.0</td>\n",
       "      <td>11.0</td>\n",
       "      <td>2.0</td>\n",
       "    </tr>\n",
       "    <tr>\n",
       "      <th>8</th>\n",
       "      <td>Катя Адушкина</td>\n",
       "      <td>106532.0</td>\n",
       "      <td>359000.0</td>\n",
       "      <td>14878872</td>\n",
       "      <td>90000.0</td>\n",
       "      <td>2003.0</td>\n",
       "      <td>11.0</td>\n",
       "      <td>2.0</td>\n",
       "    </tr>\n",
       "    <tr>\n",
       "      <th>9</th>\n",
       "      <td>Рахим Абрамов</td>\n",
       "      <td>4649.0</td>\n",
       "      <td>78000.0</td>\n",
       "      <td>20873000</td>\n",
       "      <td>171958.0</td>\n",
       "      <td>1998.0</td>\n",
       "      <td>11.0</td>\n",
       "      <td>2.0</td>\n",
       "    </tr>\n",
       "    <tr>\n",
       "      <th>10</th>\n",
       "      <td>Иван Золочевский (Золо)</td>\n",
       "      <td>62703.0</td>\n",
       "      <td>279000.0</td>\n",
       "      <td>3818880</td>\n",
       "      <td>396827.0</td>\n",
       "      <td>2004.0</td>\n",
       "      <td>11.0</td>\n",
       "      <td>2.0</td>\n",
       "    </tr>\n",
       "    <tr>\n",
       "      <th>11</th>\n",
       "      <td>Давидыч</td>\n",
       "      <td>47817.0</td>\n",
       "      <td>270000.0</td>\n",
       "      <td>8732000</td>\n",
       "      <td>510000.0</td>\n",
       "      <td>1981.0</td>\n",
       "      <td>11.0</td>\n",
       "      <td>2.0</td>\n",
       "    </tr>\n",
       "    <tr>\n",
       "      <th>12</th>\n",
       "      <td>Николай Лебедев (Некоглай)</td>\n",
       "      <td>437942.0</td>\n",
       "      <td>1720000.0</td>\n",
       "      <td>10927000</td>\n",
       "      <td>565479.0</td>\n",
       "      <td>2000.0</td>\n",
       "      <td>11.0</td>\n",
       "      <td>2.0</td>\n",
       "    </tr>\n",
       "    <tr>\n",
       "      <th>13</th>\n",
       "      <td>Максим Голополосов (+100 500)</td>\n",
       "      <td>44332.0</td>\n",
       "      <td>712000.0</td>\n",
       "      <td>12690990</td>\n",
       "      <td>700000.0</td>\n",
       "      <td>1989.0</td>\n",
       "      <td>11.0</td>\n",
       "      <td>2.0</td>\n",
       "    </tr>\n",
       "    <tr>\n",
       "      <th>14</th>\n",
       "      <td>Дмитрий Масленников</td>\n",
       "      <td>392806.0</td>\n",
       "      <td>1840000.0</td>\n",
       "      <td>24826617</td>\n",
       "      <td>780000.0</td>\n",
       "      <td>1994.0</td>\n",
       "      <td>11.0</td>\n",
       "      <td>2.0</td>\n",
       "    </tr>\n",
       "    <tr>\n",
       "      <th>15</th>\n",
       "      <td>Дмитрий Гордей</td>\n",
       "      <td>183050.0</td>\n",
       "      <td>341000.0</td>\n",
       "      <td>16057700</td>\n",
       "      <td>850000.0</td>\n",
       "      <td>1991.0</td>\n",
       "      <td>11.0</td>\n",
       "      <td>2.0</td>\n",
       "    </tr>\n",
       "    <tr>\n",
       "      <th>16</th>\n",
       "      <td>Максим Монахов (Мамикс)</td>\n",
       "      <td>54298.0</td>\n",
       "      <td>168000.0</td>\n",
       "      <td>15866600</td>\n",
       "      <td>851194.0</td>\n",
       "      <td>1996.0</td>\n",
       "      <td>11.0</td>\n",
       "      <td>2.0</td>\n",
       "    </tr>\n",
       "    <tr>\n",
       "      <th>17</th>\n",
       "      <td>Ида Галич</td>\n",
       "      <td>134282.0</td>\n",
       "      <td>327000.0</td>\n",
       "      <td>10753000</td>\n",
       "      <td>992068.0</td>\n",
       "      <td>1990.0</td>\n",
       "      <td>11.0</td>\n",
       "      <td>2.0</td>\n",
       "    </tr>\n",
       "    <tr>\n",
       "      <th>18</th>\n",
       "      <td>Эльдар Джарахов</td>\n",
       "      <td>98298.0</td>\n",
       "      <td>952000.0</td>\n",
       "      <td>12899000</td>\n",
       "      <td>992068.0</td>\n",
       "      <td>1994.0</td>\n",
       "      <td>11.0</td>\n",
       "      <td>2.0</td>\n",
       "    </tr>\n",
       "    <tr>\n",
       "      <th>19</th>\n",
       "      <td>Владислав Бумага</td>\n",
       "      <td>335235.0</td>\n",
       "      <td>1240000.0</td>\n",
       "      <td>61772387</td>\n",
       "      <td>1238432.0</td>\n",
       "      <td>1996.0</td>\n",
       "      <td>11.0</td>\n",
       "      <td>2.0</td>\n",
       "    </tr>\n",
       "    <tr>\n",
       "      <th>20</th>\n",
       "      <td>Максим Тарасенко (БрейнМапс)</td>\n",
       "      <td>8238.0</td>\n",
       "      <td>489000.0</td>\n",
       "      <td>23700000</td>\n",
       "      <td>2100000.0</td>\n",
       "      <td>1999.0</td>\n",
       "      <td>11.0</td>\n",
       "      <td>2.0</td>\n",
       "    </tr>\n",
       "    <tr>\n",
       "      <th>21</th>\n",
       "      <td>Ивлеева</td>\n",
       "      <td>2219493.0</td>\n",
       "      <td>2720000.0</td>\n",
       "      <td>30196000</td>\n",
       "      <td>2700000.0</td>\n",
       "      <td>1991.0</td>\n",
       "      <td>11.0</td>\n",
       "      <td>2.0</td>\n",
       "    </tr>\n",
       "    <tr>\n",
       "      <th>22</th>\n",
       "      <td>Дмитрий Куплинов</td>\n",
       "      <td>391818.0</td>\n",
       "      <td>875000.0</td>\n",
       "      <td>17100000</td>\n",
       "      <td>2903106.0</td>\n",
       "      <td>1988.0</td>\n",
       "      <td>11.0</td>\n",
       "      <td>2.0</td>\n",
       "    </tr>\n",
       "    <tr>\n",
       "      <th>23</th>\n",
       "      <td>Литвин</td>\n",
       "      <td>207715.0</td>\n",
       "      <td>2200000.0</td>\n",
       "      <td>25079500</td>\n",
       "      <td>5357169.0</td>\n",
       "      <td>1999.0</td>\n",
       "      <td>11.0</td>\n",
       "      <td>2.0</td>\n",
       "    </tr>\n",
       "    <tr>\n",
       "      <th>24</th>\n",
       "      <td>Валерия Чекалина</td>\n",
       "      <td>21688.0</td>\n",
       "      <td>178000.0</td>\n",
       "      <td>13417400</td>\n",
       "      <td>11987493.0</td>\n",
       "      <td>1992.0</td>\n",
       "      <td>11.0</td>\n",
       "      <td>2.0</td>\n",
       "    </tr>\n",
       "  </tbody>\n",
       "</table>\n",
       "</div>"
      ],
      "text/plain": [
       "                                имя  запросов в месяц  \\\n",
       "0                       Диана Астер           18126.0   \n",
       "1          Анна Покровская (Покров)          137034.0   \n",
       "2                      Даня Милохин          705459.0   \n",
       "3   Валентина Карнаухова (Карнавал)          946882.0   \n",
       "4                    Юлия Гаврилина          356552.0   \n",
       "5                          Егор Шип          245286.0   \n",
       "6   Евге́ний Баже́нов (бэдкомедиан)           31248.0   \n",
       "7                        Дина Саева           50935.0   \n",
       "8                     Катя Адушкина          106532.0   \n",
       "9                     Рахим Абрамов            4649.0   \n",
       "10          Иван Золочевский (Золо)           62703.0   \n",
       "11                          Давидыч           47817.0   \n",
       "12       Николай Лебедев (Некоглай)          437942.0   \n",
       "13    Максим Голополосов (+100 500)           44332.0   \n",
       "14              Дмитрий Масленников          392806.0   \n",
       "15                   Дмитрий Гордей          183050.0   \n",
       "16          Максим Монахов (Мамикс)           54298.0   \n",
       "17                        Ида Галич          134282.0   \n",
       "18                 Эльдар Джарахов            98298.0   \n",
       "19                 Владислав Бумага          335235.0   \n",
       "20     Максим Тарасенко (БрейнМапс)            8238.0   \n",
       "21                          Ивлеева         2219493.0   \n",
       "22                 Дмитрий Куплинов          391818.0   \n",
       "23                           Литвин          207715.0   \n",
       "24                 Валерия Чекалина           21688.0   \n",
       "\n",
       "    количество страниц в google  подписчики  доходы за год $  год рождения  \\\n",
       "0                       71000.0    13984535          23809.0        2000.0   \n",
       "1                      347000.0    26718000          31746.0        1999.0   \n",
       "2                     4200000.0    24370778          47453.0        2001.0   \n",
       "3                      638000.0    27394000          53075.0        2001.0   \n",
       "4                      522000.0    38388000          54894.0        2002.0   \n",
       "5                     1460000.0    15829700          60000.0        2002.0   \n",
       "6                     1320000.0     6454000          79365.0        1991.0   \n",
       "7                      127000.0    32639400          81018.0        1999.0   \n",
       "8                      359000.0    14878872          90000.0        2003.0   \n",
       "9                       78000.0    20873000         171958.0        1998.0   \n",
       "10                     279000.0     3818880         396827.0        2004.0   \n",
       "11                     270000.0     8732000         510000.0        1981.0   \n",
       "12                    1720000.0    10927000         565479.0        2000.0   \n",
       "13                     712000.0    12690990         700000.0        1989.0   \n",
       "14                    1840000.0    24826617         780000.0        1994.0   \n",
       "15                     341000.0    16057700         850000.0        1991.0   \n",
       "16                     168000.0    15866600         851194.0        1996.0   \n",
       "17                     327000.0    10753000         992068.0        1990.0   \n",
       "18                     952000.0    12899000         992068.0        1994.0   \n",
       "19                    1240000.0    61772387        1238432.0        1996.0   \n",
       "20                     489000.0    23700000        2100000.0        1999.0   \n",
       "21                    2720000.0    30196000        2700000.0        1991.0   \n",
       "22                     875000.0    17100000        2903106.0        1988.0   \n",
       "23                    2200000.0    25079500        5357169.0        1999.0   \n",
       "24                     178000.0    13417400       11987493.0        1992.0   \n",
       "\n",
       "    основная платформа деятельности  Деятельность  \n",
       "0                              11.0           2.0  \n",
       "1                              11.0           2.0  \n",
       "2                              11.0           2.0  \n",
       "3                              11.0           2.0  \n",
       "4                              11.0           2.0  \n",
       "5                              11.0           2.0  \n",
       "6                              11.0           2.0  \n",
       "7                              11.0           2.0  \n",
       "8                              11.0           2.0  \n",
       "9                              11.0           2.0  \n",
       "10                             11.0           2.0  \n",
       "11                             11.0           2.0  \n",
       "12                             11.0           2.0  \n",
       "13                             11.0           2.0  \n",
       "14                             11.0           2.0  \n",
       "15                             11.0           2.0  \n",
       "16                             11.0           2.0  \n",
       "17                             11.0           2.0  \n",
       "18                             11.0           2.0  \n",
       "19                             11.0           2.0  \n",
       "20                             11.0           2.0  \n",
       "21                             11.0           2.0  \n",
       "22                             11.0           2.0  \n",
       "23                             11.0           2.0  \n",
       "24                             11.0           2.0  "
      ]
     },
     "execution_count": 14,
     "metadata": {},
     "output_type": "execute_result"
    }
   ],
   "source": [
    "data"
   ]
  },
  {
   "cell_type": "code",
   "execution_count": 15,
   "id": "42378075",
   "metadata": {},
   "outputs": [],
   "source": [
    "features=['запросов в месяц', 'количество страниц в google', 'подписчики',\n",
    "       'доходы за год $']\n",
    "data1=data[features].astype(int)\n",
    "x = data1.loc[:, features].values\n",
    "x = StandardScaler().fit_transform(x)"
   ]
  },
  {
   "cell_type": "code",
   "execution_count": 16,
   "id": "9fbbe892",
   "metadata": {},
   "outputs": [
    {
     "data": {
      "text/plain": [
       "0.6935677522870813"
      ]
     },
     "execution_count": 16,
     "metadata": {},
     "output_type": "execute_result"
    }
   ],
   "source": [
    "pca = PCA(n_components=2)\n",
    "principalComponents = pca.fit_transform(x)\n",
    "principalDf = pd.DataFrame(data = principalComponents\n",
    "             , columns = ['principal_component_1', 'principal_component_2'])\n",
    "pca.explained_variance_ratio_.sum()"
   ]
  },
  {
   "cell_type": "code",
   "execution_count": 17,
   "id": "7727b67a",
   "metadata": {},
   "outputs": [
    {
     "data": {
      "image/png": "[encoded data removed]",
      "text/plain": [
       "<Figure size 640x480 with 1 Axes>"
      ]
     },
     "metadata": {},
     "output_type": "display_data"
    }
   ],
   "source": [
    "plt.scatter(principalDf.iloc[:,0],principalDf.iloc[:,1], s = 30);\n",
    "plt.show()"
   ]
  },
  {
   "cell_type": "markdown",
   "id": "962b6757",
   "metadata": {},
   "source": [
    "Тяжело понять, какое оптимальное число кластеров"
   ]
  },
  {
   "cell_type": "code",
   "execution_count": 18,
   "id": "e57a9991",
   "metadata": {},
   "outputs": [
    {
     "name": "stderr",
     "output_type": "stream",
     "text": [
      "C:\\ProgramData\\Anaconda3\\lib\\site-packages\\sklearn\\cluster\\_kmeans.py:1036: UserWarning: KMeans is known to have a memory leak on Windows with MKL, when there are less chunks than available threads. You can avoid it by setting the environment variable OMP_NUM_THREADS=1.\n",
      "  warnings.warn(\n"
     ]
    },
    {
     "data": {
      "image/png": "[encoded data removed]",
      "text/plain": [
       "<Figure size 640x480 with 1 Axes>"
      ]
     },
     "metadata": {},
     "output_type": "display_data"
    }
   ],
   "source": [
    "# определяем необходимое количество кластеров\n",
    "total_wcss=[]\n",
    "n_clusters = 8\n",
    "\n",
    "for i in range(1,n_clusters): \n",
    "    kmeans = KMeans(n_clusters=i, init ='k-means++', max_iter=300,  n_init=10,random_state=0 )\n",
    "    kmeans.fit(principalDf)\n",
    "    total_wcss.append(kmeans.inertia_)\n",
    "\n",
    "plt.plot(range(1,n_clusters),total_wcss)\n",
    "plt.title('Какое оптимальное число кластеров?')\n",
    "plt.xlabel('Количество кластеров')\n",
    "plt.ylabel('Total_WCSS')\n",
    "plt.show()\n"
   ]
  },
  {
   "cell_type": "code",
   "execution_count": 19,
   "id": "c0b187d1",
   "metadata": {},
   "outputs": [
    {
     "data": {
      "image/png": "[encoded data removed]",
      "text/plain": [
       "<Figure size 640x480 with 1 Axes>"
      ]
     },
     "metadata": {},
     "output_type": "display_data"
    }
   ],
   "source": [
    "kmeans = KMeans(n_clusters = 4)\n",
    "kmeans.fit(principalDf)\n",
    "y_kmeans = kmeans.predict(principalDf)\n",
    "principalDf[\"Group\"]= y_kmeans\n",
    "data[\"Group\"]=y_kmeans\n",
    "plt.scatter(principalDf[principalDf.Group == 2].iloc[:,0],principalDf[principalDf.Group == 2].iloc[:,1] , color = 'red')\n",
    "plt.scatter(principalDf[principalDf.Group == 1].iloc[:,0],principalDf[principalDf.Group == 1].iloc[:,1] , color = 'black')\n",
    "plt.scatter(principalDf[principalDf.Group == 0].iloc[:,0],principalDf[principalDf.Group == 0].iloc[:,1] , color = 'green')\n",
    "plt.scatter(principalDf[principalDf.Group == 3].iloc[:,0],principalDf[principalDf.Group == 3].iloc[:,1] , color = 'yellow')\n",
    "plt.show()"
   ]
  },
  {
   "cell_type": "code",
   "execution_count": 20,
   "id": "b5f25fc6",
   "metadata": {},
   "outputs": [],
   "source": [
    "writer = pd.ExcelWriter('BlogersFinal.xlsx')\n",
    "data.to_excel(writer)\n",
    "writer.save()"
   ]
  },
  {
   "cell_type": "markdown",
   "id": "09e37a38",
   "metadata": {},
   "source": [
    "Сохраним блогеров (позже мы изменили названия этого и другого файла, если что)"
   ]
  },
  {
   "cell_type": "code",
   "execution_count": 328,
   "id": "78aab029",
   "metadata": {},
   "outputs": [
    {
     "data": {
      "text/html": [
       "<div>\n",
       "<style scoped>\n",
       "    .dataframe tbody tr th:only-of-type {\n",
       "        vertical-align: middle;\n",
       "    }\n",
       "\n",
       "    .dataframe tbody tr th {\n",
       "        vertical-align: top;\n",
       "    }\n",
       "\n",
       "    .dataframe thead th {\n",
       "        text-align: right;\n",
       "    }\n",
       "</style>\n",
       "<table border=\"1\" class=\"dataframe\">\n",
       "  <thead>\n",
       "    <tr style=\"text-align: right;\">\n",
       "      <th></th>\n",
       "      <th>имя</th>\n",
       "      <th>запросов в месяц</th>\n",
       "      <th>количество страниц в google</th>\n",
       "      <th>подписчики</th>\n",
       "      <th>доходы за год $</th>\n",
       "      <th>год рождения</th>\n",
       "      <th>основная платформа деятельности</th>\n",
       "      <th>Деятельность</th>\n",
       "    </tr>\n",
       "  </thead>\n",
       "  <tbody>\n",
       "    <tr>\n",
       "      <th>0</th>\n",
       "      <td>Little big (Илья прусикин)</td>\n",
       "      <td>149313.0</td>\n",
       "      <td>564000.0</td>\n",
       "      <td>13148000</td>\n",
       "      <td>1000000.0</td>\n",
       "      <td>1985.0</td>\n",
       "      <td>11.0</td>\n",
       "      <td>5.0</td>\n",
       "    </tr>\n",
       "    <tr>\n",
       "      <th>1</th>\n",
       "      <td>Сергей Лазарев</td>\n",
       "      <td>415282.0</td>\n",
       "      <td>1160000.0</td>\n",
       "      <td>5942000</td>\n",
       "      <td>1200000.0</td>\n",
       "      <td>1983.0</td>\n",
       "      <td>9.0</td>\n",
       "      <td>5.0</td>\n",
       "    </tr>\n",
       "    <tr>\n",
       "      <th>2</th>\n",
       "      <td>Оксимирон</td>\n",
       "      <td>522102.0</td>\n",
       "      <td>1750000.0</td>\n",
       "      <td>2496000</td>\n",
       "      <td>1400000.0</td>\n",
       "      <td>1985.0</td>\n",
       "      <td>11.0</td>\n",
       "      <td>5.0</td>\n",
       "    </tr>\n",
       "    <tr>\n",
       "      <th>3</th>\n",
       "      <td>Элджей</td>\n",
       "      <td>496232.0</td>\n",
       "      <td>1930000.0</td>\n",
       "      <td>5785450</td>\n",
       "      <td>2000000.0</td>\n",
       "      <td>1994.0</td>\n",
       "      <td>11.0</td>\n",
       "      <td>5.0</td>\n",
       "    </tr>\n",
       "    <tr>\n",
       "      <th>4</th>\n",
       "      <td>Слава Марлоу</td>\n",
       "      <td>71507.0</td>\n",
       "      <td>1220000.0</td>\n",
       "      <td>9280000</td>\n",
       "      <td>2000000.0</td>\n",
       "      <td>1999.0</td>\n",
       "      <td>11.0</td>\n",
       "      <td>5.0</td>\n",
       "    </tr>\n",
       "  </tbody>\n",
       "</table>\n",
       "</div>"
      ],
      "text/plain": [
       "                          имя  запросов в месяц  количество страниц в google  \\\n",
       "0  Little big (Илья прусикин)          149313.0                     564000.0   \n",
       "1              Сергей Лазарев          415282.0                    1160000.0   \n",
       "2                   Оксимирон          522102.0                    1750000.0   \n",
       "3                      Элджей          496232.0                    1930000.0   \n",
       "4                Слава Марлоу           71507.0                    1220000.0   \n",
       "\n",
       "   подписчики  доходы за год $  год рождения  основная платформа деятельности  \\\n",
       "0    13148000        1000000.0        1985.0                             11.0   \n",
       "1     5942000        1200000.0        1983.0                              9.0   \n",
       "2     2496000        1400000.0        1985.0                             11.0   \n",
       "3     5785450        2000000.0        1994.0                             11.0   \n",
       "4     9280000        2000000.0        1999.0                             11.0   \n",
       "\n",
       "   Деятельность  \n",
       "0           5.0  \n",
       "1           5.0  \n",
       "2           5.0  \n",
       "3           5.0  \n",
       "4           5.0  "
      ]
     },
     "execution_count": 328,
     "metadata": {},
     "output_type": "execute_result"
    }
   ],
   "source": [
    "data=pd.read_excel(\"LeaderIDsFinal.xlsx\",sheet_name=\"Музыканты\")\n",
    "data=data.loc[data[\"доходы за год $\"].isna()==False]\n",
    "data.head()"
   ]
  },
  {
   "cell_type": "markdown",
   "id": "363ad81d",
   "metadata": {},
   "source": [
    "Перейдем к музыкантам"
   ]
  },
  {
   "cell_type": "code",
   "execution_count": 329,
   "id": "069a76e1",
   "metadata": {},
   "outputs": [],
   "source": [
    "features=['запросов в месяц', 'количество страниц в google', 'подписчики',\n",
    "       'доходы за год $']\n",
    "data1=data[features].astype(int)\n",
    "x = data1.loc[:, features].values\n",
    "x = StandardScaler().fit_transform(x)"
   ]
  },
  {
   "cell_type": "code",
   "execution_count": 330,
   "id": "f79053fc",
   "metadata": {},
   "outputs": [
    {
     "data": {
      "text/plain": [
       "0.779019403155889"
      ]
     },
     "execution_count": 330,
     "metadata": {},
     "output_type": "execute_result"
    }
   ],
   "source": [
    "pca = PCA(n_components=2)\n",
    "principalComponents = pca.fit_transform(x)\n",
    "principalDf = pd.DataFrame(data = principalComponents\n",
    "             , columns = ['principal_component_1', 'principal_component_2'])\n",
    "pca.explained_variance_ratio_.sum()"
   ]
  },
  {
   "cell_type": "code",
   "execution_count": 331,
   "id": "07eba5a0",
   "metadata": {},
   "outputs": [
    {
     "data": {
      "image/png": "[encoded data removed]",
      "text/plain": [
       "<Figure size 640x480 with 1 Axes>"
      ]
     },
     "metadata": {},
     "output_type": "display_data"
    }
   ],
   "source": [
    "plt.scatter(principalDf.iloc[:,0],principalDf.iloc[:,1], s = 30);\n",
    "plt.show()"
   ]
  },
  {
   "cell_type": "code",
   "execution_count": 376,
   "id": "b9e83a5a",
   "metadata": {},
   "outputs": [
    {
     "name": "stderr",
     "output_type": "stream",
     "text": [
      "C:\\ProgramData\\Anaconda3\\lib\\site-packages\\sklearn\\cluster\\_kmeans.py:1036: UserWarning: KMeans is known to have a memory leak on Windows with MKL, when there are less chunks than available threads. You can avoid it by setting the environment variable OMP_NUM_THREADS=1.\n",
      "  warnings.warn(\n"
     ]
    },
    {
     "data": {
      "image/png": "[encoded data removed]",
      "text/plain": [
       "<Figure size 640x480 with 1 Axes>"
      ]
     },
     "metadata": {},
     "output_type": "display_data"
    }
   ],
   "source": [
    "# определяем необходимое количество кластеров\n",
    "total_wcss=[]\n",
    "n_clusters = 10\n",
    "\n",
    "for i in range(1,n_clusters): \n",
    "    kmeans = KMeans(n_clusters=i, init ='k-means++', max_iter=300,  n_init=10,random_state=0 )\n",
    "    kmeans.fit(principalDf)\n",
    "    total_wcss.append(kmeans.inertia_)\n",
    "\n",
    "plt.plot(range(1,n_clusters),total_wcss)\n",
    "plt.title('Какое оптимальное число кластеров?')\n",
    "plt.xlabel('Количество кластеров')\n",
    "plt.ylabel('Total_WCSS')\n",
    "plt.show()\n"
   ]
  },
  {
   "cell_type": "code",
   "execution_count": 378,
   "id": "d4cd36f7",
   "metadata": {},
   "outputs": [
    {
     "data": {
      "image/png": "[encoded data removed]",
      "text/plain": [
       "<Figure size 640x480 with 1 Axes>"
      ]
     },
     "metadata": {},
     "output_type": "display_data"
    }
   ],
   "source": [
    "kmeans = KMeans(n_clusters = 3)\n",
    "kmeans.fit(principalDf)\n",
    "y_kmeans = kmeans.predict(principalDf)\n",
    "principalDf[\"Group\"]= y_kmeans\n",
    "data[\"Group\"]=y_kmeans\n",
    "plt.scatter(principalDf[principalDf.Group == 2].iloc[:,0],principalDf[principalDf.Group == 2].iloc[:,1] , color = 'red')\n",
    "plt.scatter(principalDf[principalDf.Group == 1].iloc[:,0],principalDf[principalDf.Group == 1].iloc[:,1] , color = 'black')\n",
    "plt.scatter(principalDf[principalDf.Group == 0].iloc[:,0],principalDf[principalDf.Group == 0].iloc[:,1] , color = 'green')\n",
    "#plt.scatter(principalDf[principalDf.Group == 3].iloc[:,0],principalDf[principalDf.Group == 3].iloc[:,1] , color = 'yellow')\n",
    "plt.show()"
   ]
  },
  {
   "cell_type": "code",
   "execution_count": 381,
   "id": "2534b612",
   "metadata": {},
   "outputs": [
    {
     "data": {
      "text/html": [
       "<div>\n",
       "<style scoped>\n",
       "    .dataframe tbody tr th:only-of-type {\n",
       "        vertical-align: middle;\n",
       "    }\n",
       "\n",
       "    .dataframe tbody tr th {\n",
       "        vertical-align: top;\n",
       "    }\n",
       "\n",
       "    .dataframe thead th {\n",
       "        text-align: right;\n",
       "    }\n",
       "</style>\n",
       "<table border=\"1\" class=\"dataframe\">\n",
       "  <thead>\n",
       "    <tr style=\"text-align: right;\">\n",
       "      <th></th>\n",
       "      <th>principal_component_1</th>\n",
       "      <th>principal_component_2</th>\n",
       "      <th>Group</th>\n",
       "    </tr>\n",
       "  </thead>\n",
       "  <tbody>\n",
       "    <tr>\n",
       "      <th>9</th>\n",
       "      <td>0.599239</td>\n",
       "      <td>-1.022335</td>\n",
       "      <td>2</td>\n",
       "    </tr>\n",
       "    <tr>\n",
       "      <th>11</th>\n",
       "      <td>3.139505</td>\n",
       "      <td>-1.415671</td>\n",
       "      <td>2</td>\n",
       "    </tr>\n",
       "    <tr>\n",
       "      <th>14</th>\n",
       "      <td>1.715590</td>\n",
       "      <td>-0.177058</td>\n",
       "      <td>2</td>\n",
       "    </tr>\n",
       "    <tr>\n",
       "      <th>15</th>\n",
       "      <td>3.562534</td>\n",
       "      <td>-1.121381</td>\n",
       "      <td>2</td>\n",
       "    </tr>\n",
       "    <tr>\n",
       "      <th>18</th>\n",
       "      <td>1.366443</td>\n",
       "      <td>0.486318</td>\n",
       "      <td>2</td>\n",
       "    </tr>\n",
       "    <tr>\n",
       "      <th>20</th>\n",
       "      <td>2.257343</td>\n",
       "      <td>0.351106</td>\n",
       "      <td>2</td>\n",
       "    </tr>\n",
       "  </tbody>\n",
       "</table>\n",
       "</div>"
      ],
      "text/plain": [
       "    principal_component_1  principal_component_2  Group\n",
       "9                0.599239              -1.022335      2\n",
       "11               3.139505              -1.415671      2\n",
       "14               1.715590              -0.177058      2\n",
       "15               3.562534              -1.121381      2\n",
       "18               1.366443               0.486318      2\n",
       "20               2.257343               0.351106      2"
      ]
     },
     "execution_count": 381,
     "metadata": {},
     "output_type": "execute_result"
    }
   ],
   "source": [
    "principalDf[principalDf.Group == 2]\n",
    "#data.iloc[[17,19,21,22,23]]"
   ]
  },
  {
   "cell_type": "code",
   "execution_count": 27,
   "id": "87f5f770",
   "metadata": {},
   "outputs": [],
   "source": [
    "writer = pd.ExcelWriter('MusicFinal.xlsx')\n",
    "data.to_excel(writer)\n",
    "writer.save()"
   ]
  },
  {
   "cell_type": "markdown",
   "id": "b8b65a9a",
   "metadata": {},
   "source": [
    "Сохраним музыкантов"
   ]
  },
  {
   "cell_type": "code",
   "execution_count": 28,
   "id": "60ff353b",
   "metadata": {},
   "outputs": [
    {
     "data": {
      "text/html": [
       "<div>\n",
       "<style scoped>\n",
       "    .dataframe tbody tr th:only-of-type {\n",
       "        vertical-align: middle;\n",
       "    }\n",
       "\n",
       "    .dataframe tbody tr th {\n",
       "        vertical-align: top;\n",
       "    }\n",
       "\n",
       "    .dataframe thead th {\n",
       "        text-align: right;\n",
       "    }\n",
       "</style>\n",
       "<table border=\"1\" class=\"dataframe\">\n",
       "  <thead>\n",
       "    <tr style=\"text-align: right;\">\n",
       "      <th></th>\n",
       "      <th>имя</th>\n",
       "      <th>запросов в месяц</th>\n",
       "      <th>количество страниц в google</th>\n",
       "      <th>подписчики</th>\n",
       "      <th>доходы за год $</th>\n",
       "      <th>год рождения</th>\n",
       "      <th>основная платформа деятельности</th>\n",
       "      <th>Деятельность</th>\n",
       "    </tr>\n",
       "  </thead>\n",
       "  <tbody>\n",
       "    <tr>\n",
       "      <th>0</th>\n",
       "      <td>Дмитрий Дьяченко</td>\n",
       "      <td>4253.0</td>\n",
       "      <td>103000.0</td>\n",
       "      <td>2562</td>\n",
       "      <td>1548054.0</td>\n",
       "      <td>1972.0</td>\n",
       "      <td>9.0</td>\n",
       "      <td>9.0</td>\n",
       "    </tr>\n",
       "    <tr>\n",
       "      <th>1</th>\n",
       "      <td>Алексей Герман</td>\n",
       "      <td>7421.0</td>\n",
       "      <td>118000.0</td>\n",
       "      <td>0</td>\n",
       "      <td>3100580.0</td>\n",
       "      <td>1938.0</td>\n",
       "      <td>9.0</td>\n",
       "      <td>9.0</td>\n",
       "    </tr>\n",
       "    <tr>\n",
       "      <th>2</th>\n",
       "      <td>Андрей Кравчук</td>\n",
       "      <td>8110.0</td>\n",
       "      <td>195000.0</td>\n",
       "      <td>1516</td>\n",
       "      <td>1997555.0</td>\n",
       "      <td>1962.0</td>\n",
       "      <td>9.0</td>\n",
       "      <td>9.0</td>\n",
       "    </tr>\n",
       "    <tr>\n",
       "      <th>3</th>\n",
       "      <td>Гурам Амарян</td>\n",
       "      <td>24151.0</td>\n",
       "      <td>257000.0</td>\n",
       "      <td>309200</td>\n",
       "      <td>617028.0</td>\n",
       "      <td>1993.0</td>\n",
       "      <td>11.0</td>\n",
       "      <td>9.0</td>\n",
       "    </tr>\n",
       "    <tr>\n",
       "      <th>4</th>\n",
       "      <td>Тимур Бекмамбетов</td>\n",
       "      <td>33037.0</td>\n",
       "      <td>203000.0</td>\n",
       "      <td>144000</td>\n",
       "      <td>2062007.0</td>\n",
       "      <td>1961.0</td>\n",
       "      <td>9.0</td>\n",
       "      <td>9.0</td>\n",
       "    </tr>\n",
       "  </tbody>\n",
       "</table>\n",
       "</div>"
      ],
      "text/plain": [
       "                 имя  запросов в месяц  количество страниц в google  \\\n",
       "0   Дмитрий Дьяченко            4253.0                     103000.0   \n",
       "1     Алексей Герман            7421.0                     118000.0   \n",
       "2     Андрей Кравчук            8110.0                     195000.0   \n",
       "3       Гурам Амарян           24151.0                     257000.0   \n",
       "4  Тимур Бекмамбетов           33037.0                     203000.0   \n",
       "\n",
       "   подписчики  доходы за год $  год рождения  основная платформа деятельности  \\\n",
       "0        2562        1548054.0        1972.0                              9.0   \n",
       "1           0        3100580.0        1938.0                              9.0   \n",
       "2        1516        1997555.0        1962.0                              9.0   \n",
       "3      309200         617028.0        1993.0                             11.0   \n",
       "4      144000        2062007.0        1961.0                              9.0   \n",
       "\n",
       "   Деятельность  \n",
       "0           9.0  \n",
       "1           9.0  \n",
       "2           9.0  \n",
       "3           9.0  \n",
       "4           9.0  "
      ]
     },
     "execution_count": 28,
     "metadata": {},
     "output_type": "execute_result"
    }
   ],
   "source": [
    "data=pd.read_excel(\"LeaderIDsFinal.xlsx\",sheet_name=\"Телевидение\")\n",
    "data=data.loc[data[\"доходы за год $\"].isna()==False]\n",
    "data.head()"
   ]
  },
  {
   "cell_type": "markdown",
   "id": "ff48558a",
   "metadata": {},
   "source": [
    "Перейдем к телеведушим"
   ]
  },
  {
   "cell_type": "code",
   "execution_count": 29,
   "id": "63275e82",
   "metadata": {},
   "outputs": [],
   "source": [
    "features=['запросов в месяц', 'количество страниц в google', 'подписчики',\n",
    "       'доходы за год $']\n",
    "data1=data[features].astype(int)\n",
    "x = data1.loc[:, features].values\n",
    "x = StandardScaler().fit_transform(x)"
   ]
  },
  {
   "cell_type": "code",
   "execution_count": 30,
   "id": "a58cc0f1",
   "metadata": {},
   "outputs": [
    {
     "data": {
      "text/plain": [
       "0.7073882643801579"
      ]
     },
     "execution_count": 30,
     "metadata": {},
     "output_type": "execute_result"
    }
   ],
   "source": [
    "pca = PCA(n_components=2)\n",
    "principalComponents = pca.fit_transform(x)\n",
    "principalDf = pd.DataFrame(data = principalComponents\n",
    "             , columns = ['principal_component_1', 'principal_component_2'])\n",
    "pca.explained_variance_ratio_.sum()"
   ]
  },
  {
   "cell_type": "code",
   "execution_count": 31,
   "id": "f25a9d14",
   "metadata": {},
   "outputs": [
    {
     "data": {
      "image/png": "[encoded data removed]",
      "text/plain": [
       "<Figure size 640x480 with 1 Axes>"
      ]
     },
     "metadata": {},
     "output_type": "display_data"
    }
   ],
   "source": [
    "plt.scatter(principalDf.iloc[:,0],principalDf.iloc[:,1], s = 30);\n",
    "plt.show()"
   ]
  },
  {
   "cell_type": "code",
   "execution_count": 32,
   "id": "d49f3648",
   "metadata": {},
   "outputs": [
    {
     "name": "stderr",
     "output_type": "stream",
     "text": [
      "C:\\ProgramData\\Anaconda3\\lib\\site-packages\\sklearn\\cluster\\_kmeans.py:1036: UserWarning: KMeans is known to have a memory leak on Windows with MKL, when there are less chunks than available threads. You can avoid it by setting the environment variable OMP_NUM_THREADS=1.\n",
      "  warnings.warn(\n"
     ]
    },
    {
     "data": {
      "image/png": "[encoded data removed]",
      "text/plain": [
       "<Figure size 640x480 with 1 Axes>"
      ]
     },
     "metadata": {},
     "output_type": "display_data"
    }
   ],
   "source": [
    "# определяем необходимое количество кластеров\n",
    "total_wcss=[]\n",
    "n_clusters = 10\n",
    "\n",
    "for i in range(1,n_clusters): \n",
    "    kmeans = KMeans(n_clusters=i, init ='k-means++', max_iter=300,  n_init=10,random_state=0 )\n",
    "    kmeans.fit(principalDf)\n",
    "    total_wcss.append(kmeans.inertia_)\n",
    "\n",
    "plt.plot(range(1,n_clusters),total_wcss)\n",
    "plt.title('Какое оптимальное число кластеров?')\n",
    "plt.xlabel('Количество кластеров')\n",
    "plt.ylabel('Total_WCSS')\n",
    "plt.show()\n"
   ]
  },
  {
   "cell_type": "code",
   "execution_count": 33,
   "id": "7b735451",
   "metadata": {},
   "outputs": [
    {
     "data": {
      "image/png": "[encoded data removed]",
      "text/plain": [
       "<Figure size 640x480 with 1 Axes>"
      ]
     },
     "metadata": {},
     "output_type": "display_data"
    }
   ],
   "source": [
    "kmeans = KMeans(n_clusters = 3)\n",
    "kmeans.fit(principalDf)\n",
    "y_kmeans = kmeans.predict(principalDf)\n",
    "principalDf[\"Group\"]= y_kmeans\n",
    "data[\"Group\"]=y_kmeans\n",
    "plt.scatter(principalDf[principalDf.Group == 2].iloc[:,0],principalDf[principalDf.Group == 2].iloc[:,1] , color = 'red')\n",
    "plt.scatter(principalDf[principalDf.Group == 1].iloc[:,0],principalDf[principalDf.Group == 1].iloc[:,1] , color = 'black')\n",
    "plt.scatter(principalDf[principalDf.Group == 0].iloc[:,0],principalDf[principalDf.Group == 0].iloc[:,1] , color = 'green')\n",
    "#plt.scatter(principalDf[principalDf.Group == 3].iloc[:,0],principalDf[principalDf.Group == 3].iloc[:,1] , color = 'yellow')\n",
    "plt.show()"
   ]
  },
  {
   "cell_type": "code",
   "execution_count": 34,
   "id": "194b24af",
   "metadata": {},
   "outputs": [],
   "source": [
    "writer = pd.ExcelWriter('TVFinal.xlsx')\n",
    "data.to_excel(writer)\n",
    "writer.save()"
   ]
  },
  {
   "cell_type": "markdown",
   "id": "73f66922",
   "metadata": {},
   "source": [
    "Сохраним телеведущих"
   ]
  },
  {
   "cell_type": "code",
   "execution_count": 204,
   "id": "35cd1ce1",
   "metadata": {},
   "outputs": [],
   "source": [
    "data=pd.read_excel(\"LeaderIDsFinal.xlsx\",sheet_name=\"Dataset\")\n",
    "data=data.loc[data[\"доходы за год $\"].isna()==False]\n",
    "data.index=range(0,132)"
   ]
  },
  {
   "cell_type": "markdown",
   "id": "eb619389",
   "metadata": {},
   "source": [
    "Поработаем с общим датасетом. Найдем место каждого популярного человека  в топе"
   ]
  },
  {
   "cell_type": "code",
   "execution_count": 205,
   "id": "c994f3f1",
   "metadata": {},
   "outputs": [],
   "source": [
    "features=['запросов в месяц', 'количество страниц в google', 'подписчики',\n",
    "       'доходы за год $']\n",
    "data1=data[features].astype(int)\n",
    "x = data1.loc[:, features].values\n",
    "x = StandardScaler().fit_transform(x)"
   ]
  },
  {
   "cell_type": "code",
   "execution_count": 206,
   "id": "f698f2b2",
   "metadata": {},
   "outputs": [
    {
     "data": {
      "text/plain": [
       "0.7276098618993456"
      ]
     },
     "execution_count": 206,
     "metadata": {},
     "output_type": "execute_result"
    }
   ],
   "source": [
    "pca = PCA(n_components=2)\n",
    "principalComponents = pca.fit_transform(x)\n",
    "principalDf = pd.DataFrame(data = principalComponents\n",
    "             , columns = ['principal_component_1', 'principal_component_2'])\n",
    "pca.explained_variance_ratio_.sum()"
   ]
  },
  {
   "cell_type": "code",
   "execution_count": 207,
   "id": "e131a49f",
   "metadata": {
    "scrolled": false
   },
   "outputs": [
    {
     "data": {
      "image/png": "[encoded data removed]",
      "text/plain": [
       "<Figure size 640x480 with 1 Axes>"
      ]
     },
     "metadata": {},
     "output_type": "display_data"
    }
   ],
   "source": [
    "plt.scatter(principalDf.iloc[:,0],principalDf.iloc[:,1], s = 30);\n",
    "plt.show()"
   ]
  },
  {
   "cell_type": "markdown",
   "id": "bb4c3c2c",
   "metadata": {},
   "source": [
    "Есть одна обособленная точка - Владимир Путин. Из-за нее такой маленькиц рейтинг изменчивости от PCA(72%) и сложно провести k-means"
   ]
  },
  {
   "cell_type": "markdown",
   "id": "b1e27537",
   "metadata": {},
   "source": [
    "Поэтому я удалил ее с графика и дал ей отдельную категорию - у путина в 7 раз больше запросов в интернете чем у других. Он лидер общественного мнения, и очевидно, топ 1 рейтинга, с такими параметрами"
   ]
  },
  {
   "cell_type": "code",
   "execution_count": 208,
   "id": "c16d703f",
   "metadata": {},
   "outputs": [
    {
     "data": {
      "image/png": "[encoded data removed]",
      "text/plain": [
       "<Figure size 640x480 with 1 Axes>"
      ]
     },
     "metadata": {},
     "output_type": "display_data"
    }
   ],
   "source": [
    "data1=data[data.index!=78]\n",
    "principalDf=principalDf[principalDf.index!=78]\n",
    "plt.scatter(principalDf.iloc[:,0],principalDf.iloc[:,1], s = 30);\n",
    "plt.show()"
   ]
  },
  {
   "cell_type": "markdown",
   "id": "d24d30fc",
   "metadata": {},
   "source": [
    "Мы получили график со всеми наблюдениями. Оси - значения по главным компонентам"
   ]
  },
  {
   "cell_type": "code",
   "execution_count": 209,
   "id": "60bf081b",
   "metadata": {},
   "outputs": [
    {
     "name": "stderr",
     "output_type": "stream",
     "text": [
      "C:\\ProgramData\\Anaconda3\\lib\\site-packages\\sklearn\\cluster\\_kmeans.py:1036: UserWarning: KMeans is known to have a memory leak on Windows with MKL, when there are less chunks than available threads. You can avoid it by setting the environment variable OMP_NUM_THREADS=1.\n",
      "  warnings.warn(\n"
     ]
    },
    {
     "data": {
      "image/png": "[encoded data removed]",
      "text/plain": [
       "<Figure size 640x480 with 1 Axes>"
      ]
     },
     "metadata": {},
     "output_type": "display_data"
    }
   ],
   "source": [
    "# определяем необходимое количество кластеров\n",
    "total_wcss=[]\n",
    "n_clusters = 10\n",
    "\n",
    "for i in range(1,n_clusters): \n",
    "    kmeans = KMeans(n_clusters=i, init ='k-means++', max_iter=300,  n_init=10,random_state=0 )\n",
    "    kmeans.fit(principalDf)\n",
    "    total_wcss.append(kmeans.inertia_)\n",
    "\n",
    "plt.plot(range(1,n_clusters),total_wcss)\n",
    "plt.title('Какое оптимальное число кластеров?')\n",
    "plt.xlabel('Количество кластеров')\n",
    "plt.ylabel('Total_WCSS')\n",
    "plt.show()\n"
   ]
  },
  {
   "cell_type": "code",
   "execution_count": 237,
   "id": "dea5a6af",
   "metadata": {
    "scrolled": true
   },
   "outputs": [
    {
     "data": {
      "image/png": "[encoded data removed]",
      "text/plain": [
       "<Figure size 640x480 with 1 Axes>"
      ]
     },
     "metadata": {},
     "output_type": "display_data"
    }
   ],
   "source": [
    "kmeans = KMeans(n_clusters = 4)\n",
    "kmeans.fit(principalDf)\n",
    "y_kmeans = kmeans.predict(principalDf)\n",
    "principalDf[\"Group\"]= y_kmeans\n",
    "y_kmeans=list(y_kmeans[:78])+[4]+list(y_kmeans[78:])\n",
    "data[\"Group\"]=y_kmeans\n",
    "plt.scatter(principalDf[principalDf.Group == 2].iloc[:,0],principalDf[principalDf.Group == 2].iloc[:,1] , color = 'red')\n",
    "plt.scatter(principalDf[principalDf.Group == 0].iloc[:,0],principalDf[principalDf.Group == 0].iloc[:,1] , color = 'black')\n",
    "plt.scatter(principalDf[principalDf.Group == 1].iloc[:,0],principalDf[principalDf.Group == 1].iloc[:,1] , color = 'green')\n",
    "plt.scatter(principalDf[principalDf.Group == 3].iloc[:,0],principalDf[principalDf.Group == 3].iloc[:,1] , color = 'yellow')\n",
    "plt.show()\n",
    "principalDf.index=range(0,131)\n"
   ]
  },
  {
   "cell_type": "code",
   "execution_count": 239,
   "id": "3d0c147f",
   "metadata": {
    "scrolled": false
   },
   "outputs": [
    {
     "data": {
      "text/html": [
       "<div>\n",
       "<style scoped>\n",
       "    .dataframe tbody tr th:only-of-type {\n",
       "        vertical-align: middle;\n",
       "    }\n",
       "\n",
       "    .dataframe tbody tr th {\n",
       "        vertical-align: top;\n",
       "    }\n",
       "\n",
       "    .dataframe thead th {\n",
       "        text-align: right;\n",
       "    }\n",
       "</style>\n",
       "<table border=\"1\" class=\"dataframe\">\n",
       "  <thead>\n",
       "    <tr style=\"text-align: right;\">\n",
       "      <th></th>\n",
       "      <th>principal_component_1</th>\n",
       "      <th>principal_component_2</th>\n",
       "      <th>Group</th>\n",
       "    </tr>\n",
       "  </thead>\n",
       "  <tbody>\n",
       "    <tr>\n",
       "      <th>6</th>\n",
       "      <td>2.013770</td>\n",
       "      <td>1.170039</td>\n",
       "      <td>3</td>\n",
       "    </tr>\n",
       "    <tr>\n",
       "      <th>9</th>\n",
       "      <td>-0.719634</td>\n",
       "      <td>2.587988</td>\n",
       "      <td>3</td>\n",
       "    </tr>\n",
       "    <tr>\n",
       "      <th>12</th>\n",
       "      <td>0.292594</td>\n",
       "      <td>3.023659</td>\n",
       "      <td>3</td>\n",
       "    </tr>\n",
       "    <tr>\n",
       "      <th>15</th>\n",
       "      <td>0.114690</td>\n",
       "      <td>1.708218</td>\n",
       "      <td>3</td>\n",
       "    </tr>\n",
       "    <tr>\n",
       "      <th>46</th>\n",
       "      <td>0.079136</td>\n",
       "      <td>1.773563</td>\n",
       "      <td>3</td>\n",
       "    </tr>\n",
       "    <tr>\n",
       "      <th>52</th>\n",
       "      <td>0.883876</td>\n",
       "      <td>1.913465</td>\n",
       "      <td>3</td>\n",
       "    </tr>\n",
       "    <tr>\n",
       "      <th>56</th>\n",
       "      <td>1.111743</td>\n",
       "      <td>1.051602</td>\n",
       "      <td>3</td>\n",
       "    </tr>\n",
       "    <tr>\n",
       "      <th>58</th>\n",
       "      <td>0.982897</td>\n",
       "      <td>2.767016</td>\n",
       "      <td>3</td>\n",
       "    </tr>\n",
       "    <tr>\n",
       "      <th>63</th>\n",
       "      <td>2.006996</td>\n",
       "      <td>1.680865</td>\n",
       "      <td>3</td>\n",
       "    </tr>\n",
       "    <tr>\n",
       "      <th>70</th>\n",
       "      <td>2.022609</td>\n",
       "      <td>2.054173</td>\n",
       "      <td>3</td>\n",
       "    </tr>\n",
       "    <tr>\n",
       "      <th>73</th>\n",
       "      <td>1.323479</td>\n",
       "      <td>1.889958</td>\n",
       "      <td>3</td>\n",
       "    </tr>\n",
       "    <tr>\n",
       "      <th>91</th>\n",
       "      <td>0.009532</td>\n",
       "      <td>1.854981</td>\n",
       "      <td>3</td>\n",
       "    </tr>\n",
       "    <tr>\n",
       "      <th>94</th>\n",
       "      <td>0.440479</td>\n",
       "      <td>3.930493</td>\n",
       "      <td>3</td>\n",
       "    </tr>\n",
       "  </tbody>\n",
       "</table>\n",
       "</div>"
      ],
      "text/plain": [
       "    principal_component_1  principal_component_2  Group\n",
       "6                2.013770               1.170039      3\n",
       "9               -0.719634               2.587988      3\n",
       "12               0.292594               3.023659      3\n",
       "15               0.114690               1.708218      3\n",
       "46               0.079136               1.773563      3\n",
       "52               0.883876               1.913465      3\n",
       "56               1.111743               1.051602      3\n",
       "58               0.982897               2.767016      3\n",
       "63               2.006996               1.680865      3\n",
       "70               2.022609               2.054173      3\n",
       "73               1.323479               1.889958      3\n",
       "91               0.009532               1.854981      3\n",
       "94               0.440479               3.930493      3"
      ]
     },
     "execution_count": 239,
     "metadata": {},
     "output_type": "execute_result"
    }
   ],
   "source": [
    "principalDf[principalDf.Group == 3]"
   ]
  },
  {
   "cell_type": "markdown",
   "id": "f64ee92d",
   "metadata": {},
   "source": [
    "Самые популярные наблюдения. Кто же эти люди?"
   ]
  },
  {
   "cell_type": "code",
   "execution_count": 240,
   "id": "b6bb90f0",
   "metadata": {},
   "outputs": [
    {
     "data": {
      "text/html": [
       "<div>\n",
       "<style scoped>\n",
       "    .dataframe tbody tr th:only-of-type {\n",
       "        vertical-align: middle;\n",
       "    }\n",
       "\n",
       "    .dataframe tbody tr th {\n",
       "        vertical-align: top;\n",
       "    }\n",
       "\n",
       "    .dataframe thead th {\n",
       "        text-align: right;\n",
       "    }\n",
       "</style>\n",
       "<table border=\"1\" class=\"dataframe\">\n",
       "  <thead>\n",
       "    <tr style=\"text-align: right;\">\n",
       "      <th></th>\n",
       "      <th>имя</th>\n",
       "      <th>запросов в месяц</th>\n",
       "      <th>количество страниц в google</th>\n",
       "      <th>подписчики</th>\n",
       "      <th>доходы за год $</th>\n",
       "      <th>год рождения</th>\n",
       "      <th>основная платформа деятельности</th>\n",
       "      <th>Деятельность</th>\n",
       "      <th>Unnamed: 8</th>\n",
       "      <th>Unnamed: 9</th>\n",
       "      <th>Group</th>\n",
       "    </tr>\n",
       "  </thead>\n",
       "  <tbody>\n",
       "    <tr>\n",
       "      <th>6</th>\n",
       "      <td>Ивлеева</td>\n",
       "      <td>2219493.0</td>\n",
       "      <td>2720000.0</td>\n",
       "      <td>30196000</td>\n",
       "      <td>2700000.0</td>\n",
       "      <td>1991.0</td>\n",
       "      <td>11.0</td>\n",
       "      <td>2.0</td>\n",
       "      <td>NaN</td>\n",
       "      <td>NaN</td>\n",
       "      <td>3</td>\n",
       "    </tr>\n",
       "    <tr>\n",
       "      <th>12</th>\n",
       "      <td>Владислав Бумага</td>\n",
       "      <td>335235.0</td>\n",
       "      <td>1240000.0</td>\n",
       "      <td>61772387</td>\n",
       "      <td>1238432.0</td>\n",
       "      <td>1996.0</td>\n",
       "      <td>11.0</td>\n",
       "      <td>2.0</td>\n",
       "      <td>NaN</td>\n",
       "      <td>NaN</td>\n",
       "      <td>3</td>\n",
       "    </tr>\n",
       "    <tr>\n",
       "      <th>15</th>\n",
       "      <td>Литвин</td>\n",
       "      <td>207715.0</td>\n",
       "      <td>2200000.0</td>\n",
       "      <td>25079500</td>\n",
       "      <td>5357169.0</td>\n",
       "      <td>1999.0</td>\n",
       "      <td>11.0</td>\n",
       "      <td>2.0</td>\n",
       "      <td>NaN</td>\n",
       "      <td>NaN</td>\n",
       "      <td>3</td>\n",
       "    </tr>\n",
       "    <tr>\n",
       "      <th>46</th>\n",
       "      <td>Ирина Шейк</td>\n",
       "      <td>182300.0</td>\n",
       "      <td>2310000.0</td>\n",
       "      <td>20200000</td>\n",
       "      <td>6900000.0</td>\n",
       "      <td>1986.0</td>\n",
       "      <td>11.0</td>\n",
       "      <td>4.0</td>\n",
       "      <td>NaN</td>\n",
       "      <td>NaN</td>\n",
       "      <td>3</td>\n",
       "    </tr>\n",
       "    <tr>\n",
       "      <th>52</th>\n",
       "      <td>Шнуров</td>\n",
       "      <td>982511.0</td>\n",
       "      <td>3150000.0</td>\n",
       "      <td>8222000</td>\n",
       "      <td>11000000.0</td>\n",
       "      <td>1973.0</td>\n",
       "      <td>11.0</td>\n",
       "      <td>5.0</td>\n",
       "      <td>NaN</td>\n",
       "      <td>NaN</td>\n",
       "      <td>3</td>\n",
       "    </tr>\n",
       "    <tr>\n",
       "      <th>56</th>\n",
       "      <td>Баста</td>\n",
       "      <td>930205.0</td>\n",
       "      <td>4020000.0</td>\n",
       "      <td>11249000</td>\n",
       "      <td>6600000.0</td>\n",
       "      <td>1980.0</td>\n",
       "      <td>9.0</td>\n",
       "      <td>5.0</td>\n",
       "      <td>NaN</td>\n",
       "      <td>NaN</td>\n",
       "      <td>3</td>\n",
       "    </tr>\n",
       "    <tr>\n",
       "      <th>58</th>\n",
       "      <td>Тимати</td>\n",
       "      <td>385702.0</td>\n",
       "      <td>4810000.0</td>\n",
       "      <td>22989600</td>\n",
       "      <td>10400000.0</td>\n",
       "      <td>1983.0</td>\n",
       "      <td>11.0</td>\n",
       "      <td>5.0</td>\n",
       "      <td>NaN</td>\n",
       "      <td>NaN</td>\n",
       "      <td>3</td>\n",
       "    </tr>\n",
       "    <tr>\n",
       "      <th>63</th>\n",
       "      <td>Ольга Бузова</td>\n",
       "      <td>1003826.0</td>\n",
       "      <td>6230000.0</td>\n",
       "      <td>33920000</td>\n",
       "      <td>3300000.0</td>\n",
       "      <td>1986.0</td>\n",
       "      <td>9.0</td>\n",
       "      <td>5.0</td>\n",
       "      <td>NaN</td>\n",
       "      <td>NaN</td>\n",
       "      <td>3</td>\n",
       "    </tr>\n",
       "    <tr>\n",
       "      <th>70</th>\n",
       "      <td>Егор крид</td>\n",
       "      <td>1732206.0</td>\n",
       "      <td>4070000.0</td>\n",
       "      <td>34600000</td>\n",
       "      <td>5000000.0</td>\n",
       "      <td>1994.0</td>\n",
       "      <td>11.0</td>\n",
       "      <td>5.0</td>\n",
       "      <td>NaN</td>\n",
       "      <td>NaN</td>\n",
       "      <td>3</td>\n",
       "    </tr>\n",
       "    <tr>\n",
       "      <th>73</th>\n",
       "      <td>Алишер Моргенштерн</td>\n",
       "      <td>1221602.0</td>\n",
       "      <td>3540000.0</td>\n",
       "      <td>21970973</td>\n",
       "      <td>7400000.0</td>\n",
       "      <td>1998.0</td>\n",
       "      <td>11.0</td>\n",
       "      <td>5.0</td>\n",
       "      <td>NaN</td>\n",
       "      <td>NaN</td>\n",
       "      <td>3</td>\n",
       "    </tr>\n",
       "    <tr>\n",
       "      <th>92</th>\n",
       "      <td>Александр Овечкин</td>\n",
       "      <td>342606.0</td>\n",
       "      <td>2190000.0</td>\n",
       "      <td>1600000</td>\n",
       "      <td>12200000.0</td>\n",
       "      <td>1985.0</td>\n",
       "      <td>12.0</td>\n",
       "      <td>8.0</td>\n",
       "      <td>NaN</td>\n",
       "      <td>NaN</td>\n",
       "      <td>3</td>\n",
       "    </tr>\n",
       "    <tr>\n",
       "      <th>95</th>\n",
       "      <td>Хабиб нурмагомедов</td>\n",
       "      <td>310022.0</td>\n",
       "      <td>2710000.0</td>\n",
       "      <td>35148000</td>\n",
       "      <td>12000000.0</td>\n",
       "      <td>1988.0</td>\n",
       "      <td>12.0</td>\n",
       "      <td>8.0</td>\n",
       "      <td>NaN</td>\n",
       "      <td>NaN</td>\n",
       "      <td>3</td>\n",
       "    </tr>\n",
       "  </tbody>\n",
       "</table>\n",
       "</div>"
      ],
      "text/plain": [
       "                   имя  запросов в месяц  количество страниц в google  \\\n",
       "6              Ивлеева         2219493.0                    2720000.0   \n",
       "12    Владислав Бумага          335235.0                    1240000.0   \n",
       "15              Литвин          207715.0                    2200000.0   \n",
       "46          Ирина Шейк          182300.0                    2310000.0   \n",
       "52              Шнуров          982511.0                    3150000.0   \n",
       "56               Баста          930205.0                    4020000.0   \n",
       "58              Тимати          385702.0                    4810000.0   \n",
       "63        Ольга Бузова         1003826.0                    6230000.0   \n",
       "70           Егор крид         1732206.0                    4070000.0   \n",
       "73  Алишер Моргенштерн         1221602.0                    3540000.0   \n",
       "92   Александр Овечкин          342606.0                    2190000.0   \n",
       "95  Хабиб нурмагомедов          310022.0                    2710000.0   \n",
       "\n",
       "    подписчики  доходы за год $  год рождения  \\\n",
       "6     30196000        2700000.0        1991.0   \n",
       "12    61772387        1238432.0        1996.0   \n",
       "15    25079500        5357169.0        1999.0   \n",
       "46    20200000        6900000.0        1986.0   \n",
       "52     8222000       11000000.0        1973.0   \n",
       "56    11249000        6600000.0        1980.0   \n",
       "58    22989600       10400000.0        1983.0   \n",
       "63    33920000        3300000.0        1986.0   \n",
       "70    34600000        5000000.0        1994.0   \n",
       "73    21970973        7400000.0        1998.0   \n",
       "92     1600000       12200000.0        1985.0   \n",
       "95    35148000       12000000.0        1988.0   \n",
       "\n",
       "    основная платформа деятельности  Деятельность  Unnamed: 8 Unnamed: 9  \\\n",
       "6                              11.0           2.0         NaN        NaN   \n",
       "12                             11.0           2.0         NaN        NaN   \n",
       "15                             11.0           2.0         NaN        NaN   \n",
       "46                             11.0           4.0         NaN        NaN   \n",
       "52                             11.0           5.0         NaN        NaN   \n",
       "56                              9.0           5.0         NaN        NaN   \n",
       "58                             11.0           5.0         NaN        NaN   \n",
       "63                              9.0           5.0         NaN        NaN   \n",
       "70                             11.0           5.0         NaN        NaN   \n",
       "73                             11.0           5.0         NaN        NaN   \n",
       "92                             12.0           8.0         NaN        NaN   \n",
       "95                             12.0           8.0         NaN        NaN   \n",
       "\n",
       "    Group  \n",
       "6       3  \n",
       "12      3  \n",
       "15      3  \n",
       "46      3  \n",
       "52      3  \n",
       "56      3  \n",
       "58      3  \n",
       "63      3  \n",
       "70      3  \n",
       "73      3  \n",
       "92      3  \n",
       "95      3  "
      ]
     },
     "execution_count": 240,
     "metadata": {},
     "output_type": "execute_result"
    }
   ],
   "source": [
    "#data.iloc[[12,52,56,58,63,70,73,95]]\n",
    "data.iloc[[6,12,15,46,52,56,58,63,70,73,92,95]]# тут исправили 94 на 95, тк после путина (номер 78), индексы немного сбились"
   ]
  },
  {
   "cell_type": "code",
   "execution_count": 250,
   "id": "dfb91f5d",
   "metadata": {
    "scrolled": true
   },
   "outputs": [
    {
     "data": {
      "text/html": [
       "<div>\n",
       "<style scoped>\n",
       "    .dataframe tbody tr th:only-of-type {\n",
       "        vertical-align: middle;\n",
       "    }\n",
       "\n",
       "    .dataframe tbody tr th {\n",
       "        vertical-align: top;\n",
       "    }\n",
       "\n",
       "    .dataframe thead th {\n",
       "        text-align: right;\n",
       "    }\n",
       "</style>\n",
       "<table border=\"1\" class=\"dataframe\">\n",
       "  <thead>\n",
       "    <tr style=\"text-align: right;\">\n",
       "      <th></th>\n",
       "      <th>имя</th>\n",
       "      <th>запросов в месяц</th>\n",
       "      <th>количество страниц в google</th>\n",
       "      <th>подписчики</th>\n",
       "      <th>доходы за год $</th>\n",
       "      <th>год рождения</th>\n",
       "      <th>основная платформа деятельности</th>\n",
       "      <th>Деятельность</th>\n",
       "      <th>Group</th>\n",
       "    </tr>\n",
       "  </thead>\n",
       "  <tbody>\n",
       "    <tr>\n",
       "      <th>0</th>\n",
       "      <td>Артемий Лебедев</td>\n",
       "      <td>155614.0</td>\n",
       "      <td>394000.0</td>\n",
       "      <td>3543464</td>\n",
       "      <td>85979.0</td>\n",
       "      <td>1975.0</td>\n",
       "      <td>11.0</td>\n",
       "      <td>1.0</td>\n",
       "      <td>0</td>\n",
       "    </tr>\n",
       "    <tr>\n",
       "      <th>1</th>\n",
       "      <td>Герман Греф</td>\n",
       "      <td>93197.0</td>\n",
       "      <td>1270000.0</td>\n",
       "      <td>0</td>\n",
       "      <td>11000000.0</td>\n",
       "      <td>1984.0</td>\n",
       "      <td>12.0</td>\n",
       "      <td>1.0</td>\n",
       "      <td>1</td>\n",
       "    </tr>\n",
       "    <tr>\n",
       "      <th>2</th>\n",
       "      <td>Давидыч</td>\n",
       "      <td>47817.0</td>\n",
       "      <td>270000.0</td>\n",
       "      <td>8732000</td>\n",
       "      <td>510000.0</td>\n",
       "      <td>1981.0</td>\n",
       "      <td>11.0</td>\n",
       "      <td>2.0</td>\n",
       "      <td>0</td>\n",
       "    </tr>\n",
       "    <tr>\n",
       "      <th>3</th>\n",
       "      <td>Дмитрий Куплинов</td>\n",
       "      <td>391818.0</td>\n",
       "      <td>875000.0</td>\n",
       "      <td>17100000</td>\n",
       "      <td>2903106.0</td>\n",
       "      <td>1988.0</td>\n",
       "      <td>11.0</td>\n",
       "      <td>2.0</td>\n",
       "      <td>1</td>\n",
       "    </tr>\n",
       "    <tr>\n",
       "      <th>4</th>\n",
       "      <td>Максим Голополосов (+100 500)</td>\n",
       "      <td>44332.0</td>\n",
       "      <td>712000.0</td>\n",
       "      <td>12690990</td>\n",
       "      <td>700000.0</td>\n",
       "      <td>1989.0</td>\n",
       "      <td>11.0</td>\n",
       "      <td>2.0</td>\n",
       "      <td>0</td>\n",
       "    </tr>\n",
       "  </tbody>\n",
       "</table>\n",
       "</div>"
      ],
      "text/plain": [
       "                             имя  запросов в месяц  \\\n",
       "0                Артемий Лебедев          155614.0   \n",
       "1                    Герман Греф           93197.0   \n",
       "2                        Давидыч           47817.0   \n",
       "3               Дмитрий Куплинов          391818.0   \n",
       "4  Максим Голополосов (+100 500)           44332.0   \n",
       "\n",
       "   количество страниц в google  подписчики  доходы за год $  год рождения  \\\n",
       "0                     394000.0     3543464          85979.0        1975.0   \n",
       "1                    1270000.0           0       11000000.0        1984.0   \n",
       "2                     270000.0     8732000         510000.0        1981.0   \n",
       "3                     875000.0    17100000        2903106.0        1988.0   \n",
       "4                     712000.0    12690990         700000.0        1989.0   \n",
       "\n",
       "   основная платформа деятельности  Деятельность  Group  \n",
       "0                             11.0           1.0      0  \n",
       "1                             12.0           1.0      1  \n",
       "2                             11.0           2.0      0  \n",
       "3                             11.0           2.0      1  \n",
       "4                             11.0           2.0      0  "
      ]
     },
     "execution_count": 250,
     "metadata": {},
     "output_type": "execute_result"
    }
   ],
   "source": [
    "data.head()"
   ]
  },
  {
   "cell_type": "code",
   "execution_count": 251,
   "id": "383d2d19",
   "metadata": {},
   "outputs": [],
   "source": [
    "writer = pd.ExcelWriter('DatasetFinal.xlsx')\n",
    "data.to_excel(writer)\n",
    "writer.save()"
   ]
  },
  {
   "cell_type": "markdown",
   "id": "426112b7",
   "metadata": {},
   "source": [
    "Запишем файл с топом личностей"
   ]
  },
  {
   "cell_type": "code",
   "execution_count": 420,
   "id": "daa27d6e",
   "metadata": {},
   "outputs": [
    {
     "data": {
      "text/html": [
       "<div>\n",
       "<style scoped>\n",
       "    .dataframe tbody tr th:only-of-type {\n",
       "        vertical-align: middle;\n",
       "    }\n",
       "\n",
       "    .dataframe tbody tr th {\n",
       "        vertical-align: top;\n",
       "    }\n",
       "\n",
       "    .dataframe thead th {\n",
       "        text-align: right;\n",
       "    }\n",
       "</style>\n",
       "<table border=\"1\" class=\"dataframe\">\n",
       "  <thead>\n",
       "    <tr style=\"text-align: right;\">\n",
       "      <th></th>\n",
       "      <th>Unnamed: 0</th>\n",
       "      <th>имя</th>\n",
       "      <th>запросов в месяц</th>\n",
       "      <th>количество страниц в google</th>\n",
       "      <th>подписчики</th>\n",
       "      <th>доходы за год $</th>\n",
       "      <th>год рождения</th>\n",
       "      <th>основная платформа деятельности</th>\n",
       "      <th>Деятельность</th>\n",
       "      <th>Group</th>\n",
       "    </tr>\n",
       "  </thead>\n",
       "  <tbody>\n",
       "    <tr>\n",
       "      <th>0</th>\n",
       "      <td>0</td>\n",
       "      <td>Артемий Лебедев</td>\n",
       "      <td>155614</td>\n",
       "      <td>394000</td>\n",
       "      <td>3543464</td>\n",
       "      <td>85979</td>\n",
       "      <td>1975</td>\n",
       "      <td>11</td>\n",
       "      <td>1</td>\n",
       "      <td>0</td>\n",
       "    </tr>\n",
       "    <tr>\n",
       "      <th>1</th>\n",
       "      <td>1</td>\n",
       "      <td>Герман Греф</td>\n",
       "      <td>93197</td>\n",
       "      <td>1270000</td>\n",
       "      <td>0</td>\n",
       "      <td>11000000</td>\n",
       "      <td>1984</td>\n",
       "      <td>12</td>\n",
       "      <td>1</td>\n",
       "      <td>1</td>\n",
       "    </tr>\n",
       "    <tr>\n",
       "      <th>2</th>\n",
       "      <td>2</td>\n",
       "      <td>Давидыч</td>\n",
       "      <td>47817</td>\n",
       "      <td>270000</td>\n",
       "      <td>8732000</td>\n",
       "      <td>510000</td>\n",
       "      <td>1981</td>\n",
       "      <td>11</td>\n",
       "      <td>2</td>\n",
       "      <td>0</td>\n",
       "    </tr>\n",
       "    <tr>\n",
       "      <th>3</th>\n",
       "      <td>3</td>\n",
       "      <td>Дмитрий Куплинов</td>\n",
       "      <td>391818</td>\n",
       "      <td>875000</td>\n",
       "      <td>17100000</td>\n",
       "      <td>2903106</td>\n",
       "      <td>1988</td>\n",
       "      <td>11</td>\n",
       "      <td>2</td>\n",
       "      <td>1</td>\n",
       "    </tr>\n",
       "    <tr>\n",
       "      <th>4</th>\n",
       "      <td>4</td>\n",
       "      <td>Максим Голополосов (+100 500)</td>\n",
       "      <td>44332</td>\n",
       "      <td>712000</td>\n",
       "      <td>12690990</td>\n",
       "      <td>700000</td>\n",
       "      <td>1989</td>\n",
       "      <td>11</td>\n",
       "      <td>2</td>\n",
       "      <td>0</td>\n",
       "    </tr>\n",
       "    <tr>\n",
       "      <th>...</th>\n",
       "      <td>...</td>\n",
       "      <td>...</td>\n",
       "      <td>...</td>\n",
       "      <td>...</td>\n",
       "      <td>...</td>\n",
       "      <td>...</td>\n",
       "      <td>...</td>\n",
       "      <td>...</td>\n",
       "      <td>...</td>\n",
       "      <td>...</td>\n",
       "    </tr>\n",
       "    <tr>\n",
       "      <th>127</th>\n",
       "      <td>127</td>\n",
       "      <td>Дмитрий Борисов</td>\n",
       "      <td>41906</td>\n",
       "      <td>231000</td>\n",
       "      <td>180000</td>\n",
       "      <td>512568</td>\n",
       "      <td>1985</td>\n",
       "      <td>9</td>\n",
       "      <td>9</td>\n",
       "      <td>0</td>\n",
       "    </tr>\n",
       "    <tr>\n",
       "      <th>128</th>\n",
       "      <td>128</td>\n",
       "      <td>Алексей Щербаков</td>\n",
       "      <td>103902</td>\n",
       "      <td>3860000</td>\n",
       "      <td>6070900</td>\n",
       "      <td>595241</td>\n",
       "      <td>1988</td>\n",
       "      <td>11</td>\n",
       "      <td>9</td>\n",
       "      <td>0</td>\n",
       "    </tr>\n",
       "    <tr>\n",
       "      <th>129</th>\n",
       "      <td>129</td>\n",
       "      <td>Александр Петров</td>\n",
       "      <td>201894</td>\n",
       "      <td>1390000</td>\n",
       "      <td>3249000</td>\n",
       "      <td>1700000</td>\n",
       "      <td>1989</td>\n",
       "      <td>9</td>\n",
       "      <td>9</td>\n",
       "      <td>0</td>\n",
       "    </tr>\n",
       "    <tr>\n",
       "      <th>130</th>\n",
       "      <td>130</td>\n",
       "      <td>Нурлан сабуров</td>\n",
       "      <td>192636</td>\n",
       "      <td>3410000</td>\n",
       "      <td>1425900</td>\n",
       "      <td>603882</td>\n",
       "      <td>1991</td>\n",
       "      <td>11</td>\n",
       "      <td>9</td>\n",
       "      <td>0</td>\n",
       "    </tr>\n",
       "    <tr>\n",
       "      <th>131</th>\n",
       "      <td>131</td>\n",
       "      <td>Гурам Амарян</td>\n",
       "      <td>24151</td>\n",
       "      <td>257000</td>\n",
       "      <td>309200</td>\n",
       "      <td>617028</td>\n",
       "      <td>1993</td>\n",
       "      <td>11</td>\n",
       "      <td>9</td>\n",
       "      <td>0</td>\n",
       "    </tr>\n",
       "  </tbody>\n",
       "</table>\n",
       "<p>132 rows × 10 columns</p>\n",
       "</div>"
      ],
      "text/plain": [
       "     Unnamed: 0                            имя  запросов в месяц  \\\n",
       "0             0                Артемий Лебедев            155614   \n",
       "1             1                    Герман Греф             93197   \n",
       "2             2                        Давидыч             47817   \n",
       "3             3               Дмитрий Куплинов            391818   \n",
       "4             4  Максим Голополосов (+100 500)             44332   \n",
       "..          ...                            ...               ...   \n",
       "127         127                Дмитрий Борисов             41906   \n",
       "128         128               Алексей Щербаков            103902   \n",
       "129         129               Александр Петров            201894   \n",
       "130         130                 Нурлан сабуров            192636   \n",
       "131         131                   Гурам Амарян             24151   \n",
       "\n",
       "     количество страниц в google  подписчики  доходы за год $  год рождения  \\\n",
       "0                         394000     3543464            85979          1975   \n",
       "1                        1270000           0         11000000          1984   \n",
       "2                         270000     8732000           510000          1981   \n",
       "3                         875000    17100000          2903106          1988   \n",
       "4                         712000    12690990           700000          1989   \n",
       "..                           ...         ...              ...           ...   \n",
       "127                       231000      180000           512568          1985   \n",
       "128                      3860000     6070900           595241          1988   \n",
       "129                      1390000     3249000          1700000          1989   \n",
       "130                      3410000     1425900           603882          1991   \n",
       "131                       257000      309200           617028          1993   \n",
       "\n",
       "     основная платформа деятельности  Деятельность  Group  \n",
       "0                                 11             1      0  \n",
       "1                                 12             1      1  \n",
       "2                                 11             2      0  \n",
       "3                                 11             2      1  \n",
       "4                                 11             2      0  \n",
       "..                               ...           ...    ...  \n",
       "127                                9             9      0  \n",
       "128                               11             9      0  \n",
       "129                                9             9      0  \n",
       "130                               11             9      0  \n",
       "131                               11             9      0  \n",
       "\n",
       "[132 rows x 10 columns]"
      ]
     },
     "execution_count": 420,
     "metadata": {},
     "output_type": "execute_result"
    }
   ],
   "source": [
    "a=pd.read_excel(\"DatasetFinal.xlsx\")\n",
    "#a=a.loc[a[\"доходы за год $\"].isna()==False]\n",
    "b=a.groupby(\"Деятельность\",as_index=False).agg({\"доходы за год $\":\"median\"})\n",
    "b[\"Деятельность\"]=[\"Бизнесмен\",\"Блогер\",\"Журналист\",\"Модель\",\"Музыкант\",\"Политика\",\"Спортсмен\",\"Телеведущий\"]\n",
    "a"
   ]
  },
  {
   "cell_type": "markdown",
   "id": "1a0a7c5a",
   "metadata": {},
   "source": [
    "Попробуем нарисовать пару интересных графиков"
   ]
  },
  {
   "cell_type": "code",
   "execution_count": 439,
   "id": "e0c3c74d",
   "metadata": {},
   "outputs": [
    {
     "ename": "AttributeError",
     "evalue": "'FacetGrid' object has no attribute 'title'",
     "output_type": "error",
     "traceback": [
      "\u001b[1;31m---------------------------------------------------------------------------\u001b[0m",
      "\u001b[1;31mAttributeError\u001b[0m                            Traceback (most recent call last)",
      "Cell \u001b[1;32mIn [439], line 2\u001b[0m\n\u001b[0;32m      1\u001b[0m g\u001b[38;5;241m=\u001b[39msns\u001b[38;5;241m.\u001b[39mcatplot(data\u001b[38;5;241m=\u001b[39ma, kind\u001b[38;5;241m=\u001b[39m\u001b[38;5;124m\"\u001b[39m\u001b[38;5;124mbar\u001b[39m\u001b[38;5;124m\"\u001b[39m, x\u001b[38;5;241m=\u001b[39m\u001b[38;5;124m\"\u001b[39m\u001b[38;5;124mGroup\u001b[39m\u001b[38;5;124m\"\u001b[39m, y\u001b[38;5;241m=\u001b[39m\u001b[38;5;124m\"\u001b[39m\u001b[38;5;124mдоходы за год $\u001b[39m\u001b[38;5;124m\"\u001b[39m, hue\u001b[38;5;241m=\u001b[39m\u001b[38;5;124m\"\u001b[39m\u001b[38;5;124mGroup\u001b[39m\u001b[38;5;124m\"\u001b[39m)\n\u001b[1;32m----> 2\u001b[0m \u001b[43mg\u001b[49m\u001b[38;5;241;43m.\u001b[39;49m\u001b[43mtitle\u001b[49m(\u001b[38;5;124m\"\u001b[39m\u001b[38;5;124mДоходы по категории\u001b[39m\u001b[38;5;124m\"\u001b[39m)\n",
      "\u001b[1;31mAttributeError\u001b[0m: 'FacetGrid' object has no attribute 'title'"
     ]
    },
    {
     "data": {
      "image/png": "[encoded data removed]",
      "text/plain": [
       "<Figure size 500x500 with 1 Axes>"
      ]
     },
     "metadata": {},
     "output_type": "display_data"
    }
   ],
   "source": [
    "\n",
    "g=sns.catplot(data=a, kind=\"bar\", x=\"Group\", y=\"доходы за год $\", hue=\"Group\")\n",
    "g.set_titles(\"Доходы по категории\")"
   ]
  },
  {
   "cell_type": "code",
   "execution_count": 454,
   "id": "e0ccbf3c",
   "metadata": {},
   "outputs": [
    {
     "data": {
      "text/plain": [
       "<AxesSubplot:>"
      ]
     },
     "execution_count": 454,
     "metadata": {},
     "output_type": "execute_result"
    },
    {
     "data": {
      "image/png": "[encoded data removed]",
      "text/plain": [
       "<Figure size 640x480 with 2 Axes>"
      ]
     },
     "metadata": {},
     "output_type": "display_data"
    }
   ],
   "source": [
    "sns.heatmap(a[['запросов в месяц', 'количество страниц в google',\n",
    "       'подписчики', 'доходы за год $','год рождения','основная платформа деятельности','Деятельность', 'Group']].corr(), annot=True)"
   ]
  }
 ],
 "metadata": {
  "kernelspec": {
   "display_name": "Python 3 (ipykernel)",
   "language": "python",
   "name": "python3"
  },
  "language_info": {
   "codemirror_mode": {
    "name": "ipython",
    "version": 3
   },
   "file_extension": ".py",
   "mimetype": "text/x-python",
   "name": "python",
   "nbconvert_exporter": "python",
   "pygments_lexer": "ipython3",
   "version": "3.9.12"
  }
 },
 "nbformat": 4,
 "nbformat_minor": 5
}
